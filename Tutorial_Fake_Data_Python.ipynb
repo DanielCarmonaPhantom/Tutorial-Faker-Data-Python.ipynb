{
  "nbformat": 4,
  "nbformat_minor": 0,
  "metadata": {
    "colab": {
      "name": "Tutorial Fake Data Python.ipynb",
      "provenance": [],
      "collapsed_sections": [],
      "toc_visible": true,
      "authorship_tag": "ABX9TyOGfUrwDXc6qxfQZT/MtXyB",
      "include_colab_link": true
    },
    "kernelspec": {
      "name": "python3",
      "display_name": "Python 3"
    },
    "language_info": {
      "name": "python"
    }
  },
  "cells": [
    {
      "cell_type": "markdown",
      "metadata": {
        "id": "view-in-github",
        "colab_type": "text"
      },
      "source": [
        "<a href=\"https://colab.research.google.com/github/DanielCarmonaPhantom/Tutorial-Faker-Data-Python.ipynb/blob/main/Tutorial_Fake_Data_Python.ipynb\" target=\"_parent\"><img src=\"https://colab.research.google.com/assets/colab-badge.svg\" alt=\"Open In Colab\"/></a>"
      ]
    },
    {
      "cell_type": "markdown",
      "source": [
        "# Tutorial Faker Data Python"
      ],
      "metadata": {
        "id": "OnsjR4Q0hHbL"
      }
    },
    {
      "cell_type": "markdown",
      "source": [
        "Tutorial para aprender a crear data fake para proyectos:\n",
        "Puedes acceder a la [documentación](https://faker.readthedocs.io/en/master/)\n",
        "\n",
        "Para que puedo utilizar Faker:\n",
        "* Crear datos para CSV\n",
        "* DataFrames\n",
        "* Insertar datos a una base de datos"
      ],
      "metadata": {
        "id": "7bN9s1VJhMQV"
      }
    },
    {
      "cell_type": "markdown",
      "source": [
        "Contenido:\n",
        "\n",
        "1. Introduction"
      ],
      "metadata": {
        "id": "IkHh3_rPh2Ms"
      }
    },
    {
      "cell_type": "markdown",
      "source": [
        "## 1. Introduction"
      ],
      "metadata": {
        "id": "0eQxjb0BiBj8"
      }
    },
    {
      "cell_type": "markdown",
      "source": [
        "###Quick start\n"
      ],
      "metadata": {
        "id": "Llkf2gTwliu5"
      }
    },
    {
      "cell_type": "markdown",
      "source": [
        "Para poder utilizar la librería, procederemos a instalarla en nuestro entorno local. Utilizaremos el instalador de paquetes de `pip` o si es el caso `pip3`"
      ],
      "metadata": {
        "id": "phgzwgGEiHv4"
      }
    },
    {
      "cell_type": "code",
      "execution_count": null,
      "metadata": {
        "colab": {
          "base_uri": "https://localhost:8080/"
        },
        "id": "ZeEPZ9gvf5Zb",
        "outputId": "e9a70ece-77c4-466d-a9cc-98777ac7cf03"
      },
      "outputs": [
        {
          "output_type": "stream",
          "name": "stdout",
          "text": [
            "Collecting Faker\n",
            "  Downloading Faker-13.3.4-py3-none-any.whl (1.5 MB)\n",
            "\u001b[?25l\r\u001b[K     |▏                               | 10 kB 19.2 MB/s eta 0:00:01\r\u001b[K     |▍                               | 20 kB 9.8 MB/s eta 0:00:01\r\u001b[K     |▋                               | 30 kB 7.3 MB/s eta 0:00:01\r\u001b[K     |▉                               | 40 kB 4.6 MB/s eta 0:00:01\r\u001b[K     |█                               | 51 kB 4.3 MB/s eta 0:00:01\r\u001b[K     |█▎                              | 61 kB 5.1 MB/s eta 0:00:01\r\u001b[K     |█▌                              | 71 kB 5.3 MB/s eta 0:00:01\r\u001b[K     |█▊                              | 81 kB 5.2 MB/s eta 0:00:01\r\u001b[K     |██                              | 92 kB 5.8 MB/s eta 0:00:01\r\u001b[K     |██▏                             | 102 kB 5.2 MB/s eta 0:00:01\r\u001b[K     |██▍                             | 112 kB 5.2 MB/s eta 0:00:01\r\u001b[K     |██▋                             | 122 kB 5.2 MB/s eta 0:00:01\r\u001b[K     |██▉                             | 133 kB 5.2 MB/s eta 0:00:01\r\u001b[K     |███                             | 143 kB 5.2 MB/s eta 0:00:01\r\u001b[K     |███▎                            | 153 kB 5.2 MB/s eta 0:00:01\r\u001b[K     |███▌                            | 163 kB 5.2 MB/s eta 0:00:01\r\u001b[K     |███▋                            | 174 kB 5.2 MB/s eta 0:00:01\r\u001b[K     |███▉                            | 184 kB 5.2 MB/s eta 0:00:01\r\u001b[K     |████                            | 194 kB 5.2 MB/s eta 0:00:01\r\u001b[K     |████▎                           | 204 kB 5.2 MB/s eta 0:00:01\r\u001b[K     |████▌                           | 215 kB 5.2 MB/s eta 0:00:01\r\u001b[K     |████▊                           | 225 kB 5.2 MB/s eta 0:00:01\r\u001b[K     |█████                           | 235 kB 5.2 MB/s eta 0:00:01\r\u001b[K     |█████▏                          | 245 kB 5.2 MB/s eta 0:00:01\r\u001b[K     |█████▍                          | 256 kB 5.2 MB/s eta 0:00:01\r\u001b[K     |█████▋                          | 266 kB 5.2 MB/s eta 0:00:01\r\u001b[K     |█████▉                          | 276 kB 5.2 MB/s eta 0:00:01\r\u001b[K     |██████                          | 286 kB 5.2 MB/s eta 0:00:01\r\u001b[K     |██████▎                         | 296 kB 5.2 MB/s eta 0:00:01\r\u001b[K     |██████▌                         | 307 kB 5.2 MB/s eta 0:00:01\r\u001b[K     |██████▊                         | 317 kB 5.2 MB/s eta 0:00:01\r\u001b[K     |███████                         | 327 kB 5.2 MB/s eta 0:00:01\r\u001b[K     |███████▏                        | 337 kB 5.2 MB/s eta 0:00:01\r\u001b[K     |███████▎                        | 348 kB 5.2 MB/s eta 0:00:01\r\u001b[K     |███████▌                        | 358 kB 5.2 MB/s eta 0:00:01\r\u001b[K     |███████▊                        | 368 kB 5.2 MB/s eta 0:00:01\r\u001b[K     |████████                        | 378 kB 5.2 MB/s eta 0:00:01\r\u001b[K     |████████▏                       | 389 kB 5.2 MB/s eta 0:00:01\r\u001b[K     |████████▍                       | 399 kB 5.2 MB/s eta 0:00:01\r\u001b[K     |████████▋                       | 409 kB 5.2 MB/s eta 0:00:01\r\u001b[K     |████████▉                       | 419 kB 5.2 MB/s eta 0:00:01\r\u001b[K     |█████████                       | 430 kB 5.2 MB/s eta 0:00:01\r\u001b[K     |█████████▎                      | 440 kB 5.2 MB/s eta 0:00:01\r\u001b[K     |█████████▌                      | 450 kB 5.2 MB/s eta 0:00:01\r\u001b[K     |█████████▊                      | 460 kB 5.2 MB/s eta 0:00:01\r\u001b[K     |██████████                      | 471 kB 5.2 MB/s eta 0:00:01\r\u001b[K     |██████████▏                     | 481 kB 5.2 MB/s eta 0:00:01\r\u001b[K     |██████████▍                     | 491 kB 5.2 MB/s eta 0:00:01\r\u001b[K     |██████████▋                     | 501 kB 5.2 MB/s eta 0:00:01\r\u001b[K     |██████████▊                     | 512 kB 5.2 MB/s eta 0:00:01\r\u001b[K     |███████████                     | 522 kB 5.2 MB/s eta 0:00:01\r\u001b[K     |███████████▏                    | 532 kB 5.2 MB/s eta 0:00:01\r\u001b[K     |███████████▍                    | 542 kB 5.2 MB/s eta 0:00:01\r\u001b[K     |███████████▋                    | 552 kB 5.2 MB/s eta 0:00:01\r\u001b[K     |███████████▉                    | 563 kB 5.2 MB/s eta 0:00:01\r\u001b[K     |████████████                    | 573 kB 5.2 MB/s eta 0:00:01\r\u001b[K     |████████████▎                   | 583 kB 5.2 MB/s eta 0:00:01\r\u001b[K     |████████████▌                   | 593 kB 5.2 MB/s eta 0:00:01\r\u001b[K     |████████████▊                   | 604 kB 5.2 MB/s eta 0:00:01\r\u001b[K     |█████████████                   | 614 kB 5.2 MB/s eta 0:00:01\r\u001b[K     |█████████████▏                  | 624 kB 5.2 MB/s eta 0:00:01\r\u001b[K     |█████████████▍                  | 634 kB 5.2 MB/s eta 0:00:01\r\u001b[K     |█████████████▋                  | 645 kB 5.2 MB/s eta 0:00:01\r\u001b[K     |█████████████▉                  | 655 kB 5.2 MB/s eta 0:00:01\r\u001b[K     |██████████████                  | 665 kB 5.2 MB/s eta 0:00:01\r\u001b[K     |██████████████▎                 | 675 kB 5.2 MB/s eta 0:00:01\r\u001b[K     |██████████████▍                 | 686 kB 5.2 MB/s eta 0:00:01\r\u001b[K     |██████████████▋                 | 696 kB 5.2 MB/s eta 0:00:01\r\u001b[K     |██████████████▉                 | 706 kB 5.2 MB/s eta 0:00:01\r\u001b[K     |███████████████                 | 716 kB 5.2 MB/s eta 0:00:01\r\u001b[K     |███████████████▎                | 727 kB 5.2 MB/s eta 0:00:01\r\u001b[K     |███████████████▌                | 737 kB 5.2 MB/s eta 0:00:01\r\u001b[K     |███████████████▊                | 747 kB 5.2 MB/s eta 0:00:01\r\u001b[K     |████████████████                | 757 kB 5.2 MB/s eta 0:00:01\r\u001b[K     |████████████████▏               | 768 kB 5.2 MB/s eta 0:00:01\r\u001b[K     |████████████████▍               | 778 kB 5.2 MB/s eta 0:00:01\r\u001b[K     |████████████████▋               | 788 kB 5.2 MB/s eta 0:00:01\r\u001b[K     |████████████████▉               | 798 kB 5.2 MB/s eta 0:00:01\r\u001b[K     |█████████████████               | 808 kB 5.2 MB/s eta 0:00:01\r\u001b[K     |█████████████████▎              | 819 kB 5.2 MB/s eta 0:00:01\r\u001b[K     |█████████████████▌              | 829 kB 5.2 MB/s eta 0:00:01\r\u001b[K     |█████████████████▊              | 839 kB 5.2 MB/s eta 0:00:01\r\u001b[K     |█████████████████▉              | 849 kB 5.2 MB/s eta 0:00:01\r\u001b[K     |██████████████████              | 860 kB 5.2 MB/s eta 0:00:01\r\u001b[K     |██████████████████▎             | 870 kB 5.2 MB/s eta 0:00:01\r\u001b[K     |██████████████████▌             | 880 kB 5.2 MB/s eta 0:00:01\r\u001b[K     |██████████████████▊             | 890 kB 5.2 MB/s eta 0:00:01\r\u001b[K     |███████████████████             | 901 kB 5.2 MB/s eta 0:00:01\r\u001b[K     |███████████████████▏            | 911 kB 5.2 MB/s eta 0:00:01\r\u001b[K     |███████████████████▍            | 921 kB 5.2 MB/s eta 0:00:01\r\u001b[K     |███████████████████▋            | 931 kB 5.2 MB/s eta 0:00:01\r\u001b[K     |███████████████████▉            | 942 kB 5.2 MB/s eta 0:00:01\r\u001b[K     |████████████████████            | 952 kB 5.2 MB/s eta 0:00:01\r\u001b[K     |████████████████████▎           | 962 kB 5.2 MB/s eta 0:00:01\r\u001b[K     |████████████████████▌           | 972 kB 5.2 MB/s eta 0:00:01\r\u001b[K     |████████████████████▊           | 983 kB 5.2 MB/s eta 0:00:01\r\u001b[K     |█████████████████████           | 993 kB 5.2 MB/s eta 0:00:01\r\u001b[K     |█████████████████████▏          | 1.0 MB 5.2 MB/s eta 0:00:01\r\u001b[K     |█████████████████████▍          | 1.0 MB 5.2 MB/s eta 0:00:01\r\u001b[K     |█████████████████████▌          | 1.0 MB 5.2 MB/s eta 0:00:01\r\u001b[K     |█████████████████████▊          | 1.0 MB 5.2 MB/s eta 0:00:01\r\u001b[K     |██████████████████████          | 1.0 MB 5.2 MB/s eta 0:00:01\r\u001b[K     |██████████████████████▏         | 1.1 MB 5.2 MB/s eta 0:00:01\r\u001b[K     |██████████████████████▍         | 1.1 MB 5.2 MB/s eta 0:00:01\r\u001b[K     |██████████████████████▋         | 1.1 MB 5.2 MB/s eta 0:00:01\r\u001b[K     |██████████████████████▉         | 1.1 MB 5.2 MB/s eta 0:00:01\r\u001b[K     |███████████████████████         | 1.1 MB 5.2 MB/s eta 0:00:01\r\u001b[K     |███████████████████████▎        | 1.1 MB 5.2 MB/s eta 0:00:01\r\u001b[K     |███████████████████████▌        | 1.1 MB 5.2 MB/s eta 0:00:01\r\u001b[K     |███████████████████████▊        | 1.1 MB 5.2 MB/s eta 0:00:01\r\u001b[K     |████████████████████████        | 1.1 MB 5.2 MB/s eta 0:00:01\r\u001b[K     |████████████████████████▏       | 1.1 MB 5.2 MB/s eta 0:00:01\r\u001b[K     |████████████████████████▍       | 1.2 MB 5.2 MB/s eta 0:00:01\r\u001b[K     |████████████████████████▋       | 1.2 MB 5.2 MB/s eta 0:00:01\r\u001b[K     |████████████████████████▉       | 1.2 MB 5.2 MB/s eta 0:00:01\r\u001b[K     |█████████████████████████       | 1.2 MB 5.2 MB/s eta 0:00:01\r\u001b[K     |█████████████████████████▏      | 1.2 MB 5.2 MB/s eta 0:00:01\r\u001b[K     |█████████████████████████▍      | 1.2 MB 5.2 MB/s eta 0:00:01\r\u001b[K     |█████████████████████████▋      | 1.2 MB 5.2 MB/s eta 0:00:01\r\u001b[K     |█████████████████████████▉      | 1.2 MB 5.2 MB/s eta 0:00:01\r\u001b[K     |██████████████████████████      | 1.2 MB 5.2 MB/s eta 0:00:01\r\u001b[K     |██████████████████████████▎     | 1.2 MB 5.2 MB/s eta 0:00:01\r\u001b[K     |██████████████████████████▌     | 1.3 MB 5.2 MB/s eta 0:00:01\r\u001b[K     |██████████████████████████▊     | 1.3 MB 5.2 MB/s eta 0:00:01\r\u001b[K     |███████████████████████████     | 1.3 MB 5.2 MB/s eta 0:00:01\r\u001b[K     |███████████████████████████▏    | 1.3 MB 5.2 MB/s eta 0:00:01\r\u001b[K     |███████████████████████████▍    | 1.3 MB 5.2 MB/s eta 0:00:01\r\u001b[K     |███████████████████████████▋    | 1.3 MB 5.2 MB/s eta 0:00:01\r\u001b[K     |███████████████████████████▉    | 1.3 MB 5.2 MB/s eta 0:00:01\r\u001b[K     |████████████████████████████    | 1.3 MB 5.2 MB/s eta 0:00:01\r\u001b[K     |████████████████████████████▎   | 1.3 MB 5.2 MB/s eta 0:00:01\r\u001b[K     |████████████████████████████▌   | 1.4 MB 5.2 MB/s eta 0:00:01\r\u001b[K     |████████████████████████████▋   | 1.4 MB 5.2 MB/s eta 0:00:01\r\u001b[K     |████████████████████████████▉   | 1.4 MB 5.2 MB/s eta 0:00:01\r\u001b[K     |█████████████████████████████   | 1.4 MB 5.2 MB/s eta 0:00:01\r\u001b[K     |█████████████████████████████▎  | 1.4 MB 5.2 MB/s eta 0:00:01\r\u001b[K     |█████████████████████████████▌  | 1.4 MB 5.2 MB/s eta 0:00:01\r\u001b[K     |█████████████████████████████▊  | 1.4 MB 5.2 MB/s eta 0:00:01\r\u001b[K     |██████████████████████████████  | 1.4 MB 5.2 MB/s eta 0:00:01\r\u001b[K     |██████████████████████████████▏ | 1.4 MB 5.2 MB/s eta 0:00:01\r\u001b[K     |██████████████████████████████▍ | 1.4 MB 5.2 MB/s eta 0:00:01\r\u001b[K     |██████████████████████████████▋ | 1.5 MB 5.2 MB/s eta 0:00:01\r\u001b[K     |██████████████████████████████▉ | 1.5 MB 5.2 MB/s eta 0:00:01\r\u001b[K     |███████████████████████████████ | 1.5 MB 5.2 MB/s eta 0:00:01\r\u001b[K     |███████████████████████████████▎| 1.5 MB 5.2 MB/s eta 0:00:01\r\u001b[K     |███████████████████████████████▌| 1.5 MB 5.2 MB/s eta 0:00:01\r\u001b[K     |███████████████████████████████▊| 1.5 MB 5.2 MB/s eta 0:00:01\r\u001b[K     |████████████████████████████████| 1.5 MB 5.2 MB/s eta 0:00:01\r\u001b[K     |████████████████████████████████| 1.5 MB 5.2 MB/s \n",
            "\u001b[?25hRequirement already satisfied: python-dateutil>=2.4 in /usr/local/lib/python3.7/dist-packages (from Faker) (2.8.2)\n",
            "Requirement already satisfied: typing-extensions>=3.10.0.2 in /usr/local/lib/python3.7/dist-packages (from Faker) (3.10.0.2)\n",
            "Requirement already satisfied: six>=1.5 in /usr/local/lib/python3.7/dist-packages (from python-dateutil>=2.4->Faker) (1.15.0)\n",
            "Installing collected packages: Faker\n",
            "Successfully installed Faker-13.3.4\n"
          ]
        }
      ],
      "source": [
        "pip install Faker"
      ]
    },
    {
      "cell_type": "markdown",
      "source": [
        "Una vez instalado debemos importarlo y crear una instancia."
      ],
      "metadata": {
        "id": "6cT_o76SlIXf"
      }
    },
    {
      "cell_type": "code",
      "source": [
        "from faker import Faker\n",
        "fake = Faker()"
      ],
      "metadata": {
        "id": "nxb9m6cxiYBd"
      },
      "execution_count": null,
      "outputs": []
    }
  ]
}