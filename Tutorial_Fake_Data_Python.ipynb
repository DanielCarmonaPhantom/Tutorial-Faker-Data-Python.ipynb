{
  "nbformat": 4,
  "nbformat_minor": 0,
  "metadata": {
    "colab": {
      "name": "Tutorial Fake Data Python.ipynb",
      "provenance": [],
      "authorship_tag": "ABX9TyPDjC0p/szKeL8wGbDT2SDb",
      "include_colab_link": true
    },
    "kernelspec": {
      "name": "python3",
      "display_name": "Python 3"
    },
    "language_info": {
      "name": "python"
    }
  },
  "cells": [
    {
      "cell_type": "markdown",
      "metadata": {
        "id": "view-in-github",
        "colab_type": "text"
      },
      "source": [
        "<a href=\"https://colab.research.google.com/github/DanielCarmonaPhantom/Tutorial-Faker-Data-Python.ipynb/blob/main/Tutorial_Fake_Data_Python.ipynb\" target=\"_parent\"><img src=\"https://colab.research.google.com/assets/colab-badge.svg\" alt=\"Open In Colab\"/></a>"
      ]
    },
    {
      "cell_type": "code",
      "execution_count": null,
      "metadata": {
        "id": "ZeEPZ9gvf5Zb"
      },
      "outputs": [],
      "source": [
        ""
      ]
    }
  ]
}